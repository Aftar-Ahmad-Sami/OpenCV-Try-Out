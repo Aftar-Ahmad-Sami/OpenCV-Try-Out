{
  "nbformat": 4,
  "nbformat_minor": 0,
  "metadata": {
    "colab": {
      "provenance": [],
      "gpuType": "T4"
    },
    "kernelspec": {
      "name": "python3",
      "display_name": "Python 3"
    },
    "language_info": {
      "name": "python"
    },
    "accelerator": "GPU",
    "gpuClass": "standard"
  },
  "cells": [
    {
      "cell_type": "markdown",
      "source": [
        "# **Chapter 2**"
      ],
      "metadata": {
        "id": "LedlFDkWsvzS"
      }
    },
    {
      "cell_type": "markdown",
      "source": [
        "**Importing Libraries**"
      ],
      "metadata": {
        "id": "ObqMNRd56WTS"
      }
    },
    {
      "cell_type": "code",
      "source": [
        "import numpy\n",
        "import cv2\n",
        "import os # for randomly generating raw bytes\n",
        "from google.colab.patches import cv2_imshow"
      ],
      "metadata": {
        "id": "v9vzdf1Eszdv"
      },
      "execution_count": null,
      "outputs": []
    },
    {
      "cell_type": "markdown",
      "source": [
        "**Creating a 3x3 square black image from scratch by simply creating a 2D NumPy array:**"
      ],
      "metadata": {
        "id": "k5RZG9fL6Rge"
      }
    },
    {
      "cell_type": "code",
      "source": [
        "img = numpy.zeros((3,3), dtype=numpy.uint8)\n",
        "print(\"Shape of img:\",img.shape)\n",
        "print(img)"
      ],
      "metadata": {
        "id": "RdLV4IkKtFCb"
      },
      "execution_count": null,
      "outputs": []
    },
    {
      "cell_type": "markdown",
      "source": [
        "**Converting this image into blue-green-red (BGR) format using the cv2.cvtColor function**"
      ],
      "metadata": {
        "id": "ZOIT3WOi6ETt"
      }
    },
    {
      "cell_type": "code",
      "source": [
        "img = cv2.cvtColor(img, cv2.COLOR_GRAY2BGR)\n",
        "print(img)"
      ],
      "metadata": {
        "id": "tMYuKOTktpIa",
        "colab": {
          "base_uri": "https://localhost:8080/"
        },
        "outputId": "a51e06af-4008-4797-a83d-0955f4f47e02"
      },
      "execution_count": null,
      "outputs": [
        {
          "output_type": "stream",
          "name": "stdout",
          "text": [
            "[[[0 0 0]\n",
            "  [0 0 0]\n",
            "  [0 0 0]]\n",
            "\n",
            " [[0 0 0]\n",
            "  [0 0 0]\n",
            "  [0 0 0]]\n",
            "\n",
            " [[0 0 0]\n",
            "  [0 0 0]\n",
            "  [0 0 0]]]\n"
          ]
        }
      ]
    },
    {
      "cell_type": "markdown",
      "source": [
        "**Converting from PNG to JPG**"
      ],
      "metadata": {
        "id": "ht3kpcR9581y"
      }
    },
    {
      "cell_type": "code",
      "source": [
        "image = cv2.imread('earth.png') # Normal\n",
        "# image = cv2.imread('earth.png', cv2.IMREAD_GRAYSCALE) #Gray Scaled\n",
        "cv2.imwrite('earth.jpg',image)"
      ],
      "metadata": {
        "id": "SNizSIdVvzIW"
      },
      "execution_count": null,
      "outputs": []
    },
    {
      "cell_type": "markdown",
      "source": [
        "**Converting between an image and raw bytes**"
      ],
      "metadata": {
        "id": "CtngvMpr54pg"
      }
    },
    {
      "cell_type": "code",
      "source": [
        "# (row,column) ----> (y axis,x axis) ----> (height, width)\n",
        "# Make sure to import os library for randomly generating raw bytes (not Efficient)\n",
        "\n",
        "\n",
        "# Make an array of 120,000 random bytes.\n",
        "\n",
        "# randomByteArray = bytearray(os.urandom(120000))\n",
        "# flatNumpyArray = numpy.array(randomByteArray)\n",
        "\n",
        "flatNumpyArray = numpy.random.randint(0, 256,120000).reshape(300, 400) #Efficient Way\n",
        "\n",
        "# Convert the array to make a 600x200 grayscale image.\n",
        "# 600 x 200 = 120000. It should match\n",
        "\n",
        "grayImage = flatNumpyArray.reshape(200, 600)\n",
        "cv2.imwrite('RandomGray.png', grayImage)\n",
        "\n",
        "# Convert the array to make a 300x100 color image.\n",
        "bgrImage = flatNumpyArray.reshape(100, 400, 3)\n",
        "cv2.imwrite('RandomColor.png', bgrImage)\n"
      ],
      "metadata": {
        "id": "oqwtx1IMzyPK"
      },
      "execution_count": null,
      "outputs": []
    },
    {
      "cell_type": "markdown",
      "source": [
        "**Accessing image data with numpy.array**"
      ],
      "metadata": {
        "id": "3UwC6TJZ6pOu"
      }
    },
    {
      "cell_type": "code",
      "source": [
        "\n",
        "img = cv2.imread('RandomColor.png')\n",
        "img[0,0] = [255,255,255]\n",
        "cv2_imshow(img)"
      ],
      "metadata": {
        "id": "Iw5e76FB6rFK"
      },
      "execution_count": null,
      "outputs": []
    },
    {
      "cell_type": "code",
      "source": [
        "# In the following example, we change the value of the blue channel at (150, 120) from its\n",
        "# current value to an arbitrary 255:\n",
        "\n",
        "img = cv2.imread('RandomGray.png')\n",
        "img.itemset((150,120,0),255)\n",
        "print(img.item(150,120,0))\n",
        "cv2_imshow(img)\n",
        "\n"
      ],
      "metadata": {
        "id": "XKzz1UaG9MYz"
      },
      "execution_count": null,
      "outputs": []
    },
    {
      "cell_type": "code",
      "source": [
        "# Let's consider an example of using array\n",
        "# slicing to manipulate color channels. Setting all G (green) values of an image to 0 is as\n",
        "# simple as the following code:\n",
        "\n",
        "img = cv2.imread('RandomColor.png')\n",
        "img[:, :, 1] = 0\n",
        "cv2_imshow(img)"
      ],
      "metadata": {
        "id": "QcA2ofsBRFiw"
      },
      "execution_count": null,
      "outputs": []
    },
    {
      "cell_type": "code",
      "source": [
        "# Defining Regions of Interests (ROI)\n",
        "\n",
        "# we can bind this region to a variable, define a second region, and assign the value of the first region to the second\n",
        "# (hence, copying a portion of the image over to another position in the image)\n",
        "\n",
        "img = cv2.imread('earth.png')\n",
        "print(\"Shape:\\t\",img.shape)\n",
        "print(\"Size:\\t\",img.size)\n",
        "print(\"DType:\\t\",img.dtype)\n",
        "\n",
        "my_roi = img[0:100, 0:100]\n",
        "img[300:400, 300:400] = my_roi\n",
        "cv2_imshow(img)"
      ],
      "metadata": {
        "id": "k2LKzN4ZR_F2"
      },
      "execution_count": null,
      "outputs": []
    },
    {
      "cell_type": "markdown",
      "source": [
        "**Reading/writing a video file**"
      ],
      "metadata": {
        "id": "1v5L8DYKCE4s"
      }
    },
    {
      "cell_type": "code",
      "source": [
        "videoCapture = cv2.VideoCapture('MyInputVid.avi')\n",
        "fps = videoCapture.get(cv2.CAP_PROP_FPS)\n",
        "size = (int(videoCapture.get(cv2.CAP_PROP_FRAME_WIDTH)),\n",
        "int(videoCapture.get(cv2.CAP_PROP_FRAME_HEIGHT)))\n",
        "videoWriter = cv2.VideoWriter(\n",
        "'MyOutputVid.avi', cv2.VideoWriter_fourcc('I','4','2','0'),\n",
        "fps, size)\n",
        "success, frame = videoCapture.read()\n",
        "while success: # Loop until there are no more frames.\n",
        "  videoWriter.write(frame)\n",
        "  success, frame = videoCapture.read()"
      ],
      "metadata": {
        "id": "suVgNpve_ybd"
      },
      "execution_count": null,
      "outputs": []
    },
    {
      "cell_type": "markdown",
      "source": [
        "**Capturing Camera Frames**"
      ],
      "metadata": {
        "id": "h6aG49kTGXuc"
      }
    },
    {
      "cell_type": "code",
      "source": [
        "cameraCapture = cv2.VideoCapture(0)\n",
        "fps = 30 # An assumption\n",
        "size = (int(cameraCapture.get(cv2.CAP_PROP_FRAME_WIDTH)),\n",
        "int(cameraCapture.get(cv2.CAP_PROP_FRAME_HEIGHT)))\n",
        "videoWriter = cv2.VideoWriter('MyOutputVid.avi', cv2.VideoWriter_fourcc('I','4','2','0'),fps, size)\n",
        "success, frame = cameraCapture.read()\n",
        "numFramesRemaining = 10 * fps - 1 # 10 seconds of frames\n",
        "while success and numFramesRemaining > 0:\n",
        "  videoWriter.write(frame)\n",
        "  success, frame = cameraCapture.read()\n",
        "  numFramesRemaining -= 1"
      ],
      "metadata": {
        "id": "AWCWEnS5FHx_"
      },
      "execution_count": null,
      "outputs": []
    },
    {
      "cell_type": "markdown",
      "source": [
        "**Displaying an image in a window**"
      ],
      "metadata": {
        "id": "lCtqdY-wGhtE"
      }
    },
    {
      "cell_type": "code",
      "source": [
        "# It won't work in Google Collab\n",
        "\n",
        "# img = cv2.imread('RandomGray.png')\n",
        "# cv2.imshow('RandomGray',img)\n",
        "# cv2.waitKey()\n",
        "# cv2.destroyAllWindows()"
      ],
      "metadata": {
        "id": "vHlLvgLfGd3R"
      },
      "execution_count": null,
      "outputs": []
    },
    {
      "cell_type": "markdown",
      "source": [
        "**Displaying camera frames in a window**"
      ],
      "metadata": {
        "id": "24V6K1Y9HMbu"
      }
    },
    {
      "cell_type": "code",
      "source": [
        "# Does not work in Google Colab\n",
        "\n",
        "import cv2\n",
        "\n",
        "clicked = False\n",
        "def onMouse(event, x, y, flags, param):\n",
        "  global clicked\n",
        "  if event == cv2.EVENT_LBUTTONUP:\n",
        "    clicked = True\n",
        "\n",
        "cameraCapture = cv2.VideoCapture(0)\n",
        "cv2.namedWindow('MyWindow')\n",
        "cv2.setMouseCallback('MyWindow', onMouse)\n",
        "\n",
        "print('Showing camera feed. Click window or press any key to stop.')\n",
        "success, frame = cameraCapture.read()\n",
        "while success and cv2.waitKey(1) == -1 and not clicked:\n",
        "  cv2.imshow('MyWindow', frame)\n",
        "  success, frame = cameraCapture.read()\n",
        "\n",
        "cv2.destroyWindow('MyWindow')\n",
        "cameraCapture.release()"
      ],
      "metadata": {
        "id": "em4udYmWHPUp"
      },
      "execution_count": null,
      "outputs": []
    }
  ]
}